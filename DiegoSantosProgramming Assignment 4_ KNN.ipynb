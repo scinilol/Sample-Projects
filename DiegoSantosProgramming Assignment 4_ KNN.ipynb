{
 "cells": [
  {
   "cell_type": "markdown",
   "id": "e9c5f0f5-241d-4fd6-ba0a-4cd7acf41e60",
   "metadata": {},
   "source": [
    "Instructions\r\n",
    "1. Load and Explore the Dataset\r\n",
    "Objective: Load the dataset and examine its structure.\r\n",
    "Tasks:\r\n",
    "• Load the digits dataset from the sklearn.datasets library.\r\n",
    "• Display the shape of X (feature data) and y (label data) to under tand\r\n",
    "the dataset’s dimensions.\r\n",
    "• Randomly split the dataset into training and test sets, reserving 0 sam-\r\n",
    "ples for the tt set.\r\n",
    "1\r\n",
    "• Display the shapes of X train, y train, X test, and y test  o confirm\r\n",
    "the correct split.\r\n",
    "Rubric (15 points)\r\n",
    "• Correctly load and display shapes of X and y: 3 points\r\n",
    "• Implement a random split with 500 test samples: 8 points\r\n",
    "• Display and verify shapes of X train, y train, X test  and y test: 4\r\n",
    "points"
   ]
  },
  {
   "cell_type": "code",
   "execution_count": 35,
   "id": "226a632f-1dcc-4dc8-97c6-0fcf0c32588b",
   "metadata": {},
   "outputs": [
    {
     "name": "stdout",
     "output_type": "stream",
     "text": [
      "Shape of X: (1797, 64)\n",
      "Shape of y: (1797,)\n",
      "Shape of X_train: (1297, 64)\n",
      "Shape of y_train: (1297,)\n",
      "Shape of X_test: (500, 64)\n",
      "Shape of y_test: (500,)\n"
     ]
    }
   ],
   "source": [
    "import numpy as np\n",
    "import matplotlib.pyplot as plt\n",
    "from sklearn.datasets import load_digits\n",
    "from sklearn.model_selection import train_test_split\n",
    "from sklearn.neighbors import KNeighborsClassifier\n",
    "from sklearn.metrics import f1_score\n",
    "import pandas as pd\n",
    "\n",
    "# Load digits dataset\n",
    "digits = load_digits()\n",
    "X, y = digits.data, digits.target\n",
    "\n",
    "# Displaying shape of X and y\n",
    "print(\"Shape of X:\", X.shape)\n",
    "print(\"Shape of y:\", y.shape)\n",
    "\n",
    "# Randomly split the dataset\n",
    "X_train, X_test, y_train, y_test = train_test_split(X, y, test_size = 500, random_state = 40)\n",
    "\n",
    "# Display shapes to confirm split\n",
    "print(\"Shape of X_train:\", X_train.shape)\n",
    "print(\"Shape of y_train:\", y_train.shape)\n",
    "print(\"Shape of X_test:\", X_test.shape)\n",
    "print(\"Shape of y_test:\", y_test.shape)"
   ]
  },
  {
   "cell_type": "markdown",
   "id": "5779d621-fde5-497b-bc99-da488ee022a9",
   "metadata": {},
   "source": [
    "2. Visualize Training Data\r\n",
    "Objective: Become familiar with the images in the dataset.\r\n",
    "Tasks:\r\n",
    "• Select 10 random images from X train and their corresponding lab ls\r\n",
    "from y train.\r\n",
    "• Display these images in a grid using matplotlib, with each image la eled\r\n",
    "with its corresponding digit. Use grayscale to emphasize pixel intensity.\r\n",
    "Rubric (10 points)\r\n",
    "• Correctly select and display 10 random images from X train: 5 points\r\n",
    "• Display labels accurately and clearly: 3 points\r\n",
    "• Proper use of grayscale and clean layout of images: 2 points"
   ]
  },
  {
   "cell_type": "code",
   "execution_count": 37,
   "id": "d4967d70-4241-4e4a-99e9-c6770216755f",
   "metadata": {},
   "outputs": [
    {
     "data": {
      "image/png": "[encoded data removed]",
      "text/plain": [
       "<Figure size 1500x800 with 10 Axes>"
      ]
     },
     "metadata": {},
     "output_type": "display_data"
    }
   ],
   "source": [
    "# 10 random images from X_train / displaying them\n",
    "indices = np.random.choice(X_train.shape[0], 10, replace = False)\n",
    "fig, axis = plt.subplots(1, 10, figsize = (15, 8))\n",
    "for i, subplot in enumerate(axis):\n",
    "    subplot.imshow(X_train[indices[i]].reshape(8, 8), cmap = 'gray')\n",
    "    subplot.set_title(\"Label: \" + str(y_train[indices[i]]))\n",
    "    subplot.axis('off')\n",
    "plt.show()"
   ]
  },
  {
   "cell_type": "markdown",
   "id": "f5d1f416-722a-445b-ae18-5ee1fe0724f1",
   "metadata": {},
   "source": [
    "3. Implement the k-Nearest Neighbor Classifier\r\n",
    "Objective: Train multiple k-NN classifiers to predict digit labels.\r\n",
    "Tasks:\r\n",
    "• Use sklearn’s KNeighborsClassifier to create and train a k-NN clai-\r\n",
    "fier.\r\n",
    "• Train five separate classifiers with k = 1, 3, 5, 7, and 9.\r\n",
    "• For each classifier, fit the model using X train and y train.\r\n",
    "Rubric (30 points)\r\n",
    "• Correctly implement and train each classifier with specified values of k: 6\r\n",
    "points per classifier (30 points total)"
   ]
  },
  {
   "cell_type": "code",
   "execution_count": 39,
   "id": "9d1cfe62-3b41-4b42-9a46-998d97a2ed9f",
   "metadata": {},
   "outputs": [],
   "source": [
    "kVals = [1, 3, 5, 7, 9]\n",
    "classifiers = {}\n",
    "\n",
    "# Train k-NN classifier for each k val\n",
    "for k in kVals:\n",
    "    knn = KNeighborsClassifier(n_neighbors = k)\n",
    "    knn.fit(X_train, y_train)\n",
    "    classifiers[k] = knn"
   ]
  },
  {
   "cell_type": "markdown",
   "id": "895de896-cb8b-4fe3-9294-38881cd7b6d7",
   "metadata": {},
   "source": [
    "4. Evaluate and Compare Classifiers\r\n",
    "Objective: Compare classifier performance for different values of k using F \r\n",
    "scores.\r\n",
    "Tasks:\r\n",
    "• For each trained classifier (one per k value), predict the labels of X  est\r\n",
    "and calculate the F1 score using y test as the ground truth.\r\n",
    "• Use the f1 score function from sklearn.metrics with average=’wei hted’\r\n",
    "to account for class distribution.\r\n",
    "• Display the F1 scores in a table (using Markdown or pandas.Da aFrame)\r\n",
    "for each k value.\r\n",
    "• Summarize findings in a Markdown cell, discussing any patterns or trends\r\n",
    "observed across different k values, including changes in F1 scores.\r\n",
    "Rubric (25 points)\r\n",
    "• Correctly calculate F1 scores for each classifier: 3 points p r classifier\r\n",
    "(15 points total)\r\n",
    "• Create a clear, organized table for F1 scores: 5 points\r\n",
    "• Insightful discussion on the impact of different k values on performance:\r\n",
    "5 points"
   ]
  },
  {
   "cell_type": "code",
   "execution_count": 41,
   "id": "02ea28ce-fe7f-4bf0-b9a6-96a248ed03d4",
   "metadata": {},
   "outputs": [
    {
     "name": "stdout",
     "output_type": "stream",
     "text": [
      "F1 Scores for different k vals:\n",
      "   k  F1 Score\n",
      "0  1  0.981906\n",
      "1  3  0.981918\n",
      "2  5  0.975748\n",
      "3  7  0.973615\n",
      "4  9  0.967478\n"
     ]
    }
   ],
   "source": [
    "# Calculate F1 scores for each classifier\n",
    "f1Scores = {}\n",
    "for k, model in classifiers.items():\n",
    "    y_pred = model.predict(X_test)\n",
    "    f1 = f1_score(y_test, y_pred, average = 'weighted')\n",
    "    f1Scores[k] = f1\n",
    "\n",
    "# Display F1 scores\n",
    "results = pd.DataFrame(list(f1Scores.items()), columns = ['k', 'F1 Score'])\n",
    "print(\"F1 Scores for different k vals:\")\n",
    "print(results)"
   ]
  },
  {
   "cell_type": "markdown",
   "id": "fa1a4ed8-aeff-4d7c-b831-79179ada853b",
   "metadata": {},
   "source": [
    "Our F1 scores show a minimal decrease as k increases, showing a gradual decrease in performance with higher k vals."
   ]
  },
  {
   "cell_type": "markdown",
   "id": "df12286e-b846-493c-84b4-ff6f5ef57305",
   "metadata": {},
   "source": [
    "5. Visualize Qualitative Predictions\r\n",
    "Objective: Evaluate classifier predictions qualitatively.\r\n",
    "Tasks:\r\n",
    "• For each classifier (with k = 1, 3, 5, 7, 9), select a few random images f om\r\n",
    "X test to display predictions.\r\n",
    "• Display each image with its predicted label and true label, annot ting\r\n",
    "each plot with the classifier’s k value.\r\n",
    "• In a concluding Markdown cell, reflect on the results, noting y pat-\r\n",
    "terns or obser\n",
    "    ations, especially for cases where predictions were correct\r\n",
    "or i\n",
    "correct.\r\n",
    "Rubric (20 points)\r\n",
    "• Correctly select random test samples and display images for each  lassifier:\r\n",
    "10 points\r\n",
    "• Clear and accurate labeling of predictions and true labels: 10 points"
   ]
  },
  {
   "cell_type": "code",
   "execution_count": 44,
   "id": "ce8a5d38-cf32-4920-af7c-db469f50fd0e",
   "metadata": {},
   "outputs": [
    {
     "data": {
      "image/png": "[encoded data removed]",
      "text/plain": [
       "<Figure size 1000x1000 with 25 Axes>"
      ]
     },
     "metadata": {},
     "output_type": "display_data"
    }
   ],
   "source": [
    "samples = 5\n",
    "randIndices = np.random.choice(X_test.shape[0], samples, replace=False)\n",
    "fig, grid = plt.subplots(len(kVals), samples, figsize = (10, 10))\n",
    "plt.subplots_adjust(hspace = 1, left = .2)\n",
    "for i, k in enumerate(kVals):\n",
    "    for j, index in enumerate(randIndices):\n",
    "        true_label = y_test[index]\n",
    "        pred_label = classifiers[k].predict([X_test[index]])[0]\n",
    "        grid[i, j].imshow(X_test[index].reshape(8, 8), cmap = 'gray')\n",
    "        grid[i, j].set_title(\"True: \" + str(true_label) + \"\\nPred: \" + str(pred_label), fontsize = 10)\n",
    "        grid[i, j].axis('off')\n",
    "# k labels on the leftmost side\n",
    "for i, k in enumerate(kVals):\n",
    "    fig.text(0.05, 1 - (i + 0.5) / len(kVals), \"k = \" + str(k), ha = 'center', va = 'center', fontsize = 12)\n",
    "plt.show()\n"
   ]
  },
  {
   "cell_type": "markdown",
   "id": "bcdf2d80-9312-4acd-9fff-8bc531deb66e",
   "metadata": {},
   "source": [
    "Analysis and Observations: A summary of findings on how k impacts \n",
    "model performance, supported by both F1 scores and qualitative predi\r\n",
    "tions."
   ]
  },
  {
   "cell_type": "markdown",
   "id": "c4d6f23d-e325-477b-acaf-cf3ae5a540ce",
   "metadata": {},
   "source": [
    "Digits like 0,1,2,3 are easily predicited by our model, maybe because of their distinct features. As k value goes up our F1 score declines, leading to misclassifications of other digits like 9 or 8. We can see the trade off between sensitivity and stability with differnt values of k for this model."
   ]
  }
 ],
 "metadata": {
  "kernelspec": {
   "display_name": "Python 3 (ipykernel)",
   "language": "python",
   "name": "python3"
  },
  "language_info": {
   "codemirror_mode": {
    "name": "ipython",
    "version": 3
   },
   "file_extension": ".py",
   "mimetype": "text/x-python",
   "name": "python",
   "nbconvert_exporter": "python",
   "pygments_lexer": "ipython3",
   "version": "3.12.4"
  }
 },
 "nbformat": 4,
 "nbformat_minor": 5
}
